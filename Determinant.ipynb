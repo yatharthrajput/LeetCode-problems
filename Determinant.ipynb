{
 "cells": [
  {
   "cell_type": "markdown",
   "id": "18e98a83",
   "metadata": {},
   "source": [
    "## The determinant of a square matrix can be calculated det() function which also comes from the numpy linalg package. If the determinant is 0, that matrix is not invertible. It is known as a singular matrix in algebra terms."
   ]
  },
  {
   "cell_type": "code",
   "execution_count": 4,
   "id": "1d4f3c3e",
   "metadata": {},
   "outputs": [
    {
     "name": "stdout",
     "output_type": "stream",
     "text": [
      "a = \n",
      "[[7 2 0]\n",
      " [1 9 1]\n",
      " [1 7 1]]\n",
      "\n",
      "Determinant: 14.0\n"
     ]
    }
   ],
   "source": [
    "import numpy as np\n",
    "a = np.array([[7, 2, 0],\n",
    "               [1, 9, 1],\n",
    "               [1, 7, 1]])\n",
    "print(\"a = \")\n",
    "print(a)\n",
    "det = np.linalg.det(a)\n",
    "print(\"\\nDeterminant:\", np.round(det))"
   ]
  },
  {
   "cell_type": "code",
   "execution_count": null,
   "id": "ca184e65",
   "metadata": {},
   "outputs": [],
   "source": []
  }
 ],
 "metadata": {
  "kernelspec": {
   "display_name": "Python 3",
   "language": "python",
   "name": "python3"
  },
  "language_info": {
   "codemirror_mode": {
    "name": "ipython",
    "version": 3
   },
   "file_extension": ".py",
   "mimetype": "text/x-python",
   "name": "python",
   "nbconvert_exporter": "python",
   "pygments_lexer": "ipython3",
   "version": "3.8.8"
  }
 },
 "nbformat": 4,
 "nbformat_minor": 5
}
