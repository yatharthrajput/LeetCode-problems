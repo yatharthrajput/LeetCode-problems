{
 "cells": [
  {
   "cell_type": "code",
   "execution_count": 3,
   "id": "0d664140",
   "metadata": {},
   "outputs": [
    {
     "name": "stdout",
     "output_type": "stream",
     "text": [
      "Enter number of rows: 5\n",
      "0 0 0 0 1 \n",
      "0 0 0 2 3 2 \n",
      "0 0 3 4 5 4 3 \n",
      "0 4 5 6 7 6 5 4 \n",
      "5 6 7 8 9 8 7 6 5 \n"
     ]
    }
   ],
   "source": [
    "rows = int(input(\"Enter number of rows: \"))\n",
    "\n",
    "k = 0\n",
    "count=0\n",
    "count1=0\n",
    "\n",
    "for i in range(1, rows+1):\n",
    "    for space in range(1, (rows-i)+1):\n",
    "        print(\"0 \", end=\"\")\n",
    "        count+=1\n",
    "    \n",
    "    while k!=((2*i)-1):\n",
    "        if count<=rows-1:\n",
    "            print(i+k, end=\" \")\n",
    "            count+=1\n",
    "        else:\n",
    "            count1+=1\n",
    "            print(i+k-(2*count1), end=\" \")\n",
    "        k += 1\n",
    "    \n",
    "    count1 = count = k = 0\n",
    "    print()"
   ]
  },
  {
   "cell_type": "code",
   "execution_count": null,
   "id": "23e07fef",
   "metadata": {},
   "outputs": [],
   "source": []
  }
 ],
 "metadata": {
  "kernelspec": {
   "display_name": "Python 3",
   "language": "python",
   "name": "python3"
  },
  "language_info": {
   "codemirror_mode": {
    "name": "ipython",
    "version": 3
   },
   "file_extension": ".py",
   "mimetype": "text/x-python",
   "name": "python",
   "nbconvert_exporter": "python",
   "pygments_lexer": "ipython3",
   "version": "3.8.8"
  }
 },
 "nbformat": 4,
 "nbformat_minor": 5
}
