{
 "cells": [
  {
   "cell_type": "code",
   "execution_count": null,
   "id": "aedbfb89",
   "metadata": {},
   "outputs": [],
   "source": [
    "class Solution(object):\n",
    "    \n",
    "    def mergeTwoLists(self, l1, l2):\n",
    "        \n",
    "        #edge cases\n",
    "        if l1 is None and l2 is None: \n",
    "\t\t\treturn l1\n",
    "        elif l1 is not None and l2 is None: \n",
    "\t\t\treturn l1\n",
    "        elif l1 is None and l2 is not None: \n",
    "\t\t\treturn l2\n",
    "        \n",
    "        #create empty ListNode\n",
    "        returnNode=ListNode(0)\n",
    "        stageReturn=returnNode\n",
    "        \n",
    "        #iterate until one is empty\n",
    "        while l1 is not None and l2 is not None:\n",
    "            if(l1.val<=l2.val):\n",
    "                stageReturn.next = l1\n",
    "                l1=l1.next\n",
    "            elif(l1.val>l2.val):\n",
    "                stageReturn.next = l2\n",
    "                l2=l2.next\n",
    "            stageReturn=stageReturn.next\n",
    "        \n",
    "        #if one empties first, continue with other\n",
    "        if l2 is None:\n",
    "            stageReturn.next = l1\n",
    "        if l1 is None:\n",
    "            stageReturn.next = l2"
   ]
  }
 ],
 "metadata": {
  "kernelspec": {
   "display_name": "Python 3",
   "language": "python",
   "name": "python3"
  },
  "language_info": {
   "codemirror_mode": {
    "name": "ipython",
    "version": 3
   },
   "file_extension": ".py",
   "mimetype": "text/x-python",
   "name": "python",
   "nbconvert_exporter": "python",
   "pygments_lexer": "ipython3",
   "version": "3.8.8"
  }
 },
 "nbformat": 4,
 "nbformat_minor": 5
}
