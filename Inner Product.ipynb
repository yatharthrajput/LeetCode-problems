{
 "cells": [
  {
   "cell_type": "markdown",
   "id": "8024fb10",
   "metadata": {},
   "source": [
    "## The inner product takes two vectors of equal size and returns a single number (scalar). This is calculated by multiplying the corresponding elements in each vector and adding up all of those products. In numpy, vectors are defined as one-dimensional numpy arrays."
   ]
  },
  {
   "cell_type": "code",
   "execution_count": 7,
   "id": "edc3910c",
   "metadata": {},
   "outputs": [
    {
     "name": "stdout",
     "output_type": "stream",
     "text": [
      "a=  [1 2 3]\n",
      "b=  [ 7  5 10]\n",
      "\n",
      "inner: 47\n"
     ]
    }
   ],
   "source": [
    "\n",
    "import numpy as np\n",
    "\n",
    "# Vectors as 1D numpy arrays\n",
    "a = np.array([1, 2, 3])\n",
    "b = np.array([7, 5, 10])\n",
    "\n",
    "print(\"a= \", a)\n",
    "print(\"b= \", b)\n",
    "print(\"\")\n",
    "print(\"inner:\", np.inner(a, b))\n"
   ]
  },
  {
   "cell_type": "code",
   "execution_count": null,
   "id": "d6e13cb1",
   "metadata": {},
   "outputs": [],
   "source": []
  }
 ],
 "metadata": {
  "kernelspec": {
   "display_name": "Python 3",
   "language": "python",
   "name": "python3"
  },
  "language_info": {
   "codemirror_mode": {
    "name": "ipython",
    "version": 3
   },
   "file_extension": ".py",
   "mimetype": "text/x-python",
   "name": "python",
   "nbconvert_exporter": "python",
   "pygments_lexer": "ipython3",
   "version": "3.8.8"
  }
 },
 "nbformat": 4,
 "nbformat_minor": 5
}
