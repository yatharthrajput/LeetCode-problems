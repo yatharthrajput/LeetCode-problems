{
 "cells": [
  {
   "cell_type": "code",
   "execution_count": null,
   "id": "c3ba6c57",
   "metadata": {},
   "outputs": [],
   "source": [
    "\n",
    "def singleNumber(self, nums: List[int]) -> List[int]:\n",
    "        ans, mp = [], Counter(nums)\n",
    "        for n, freq in mp.items():\n",
    "            if freq == 1:\n",
    "                ans.append(n)\n",
    "        return ans"
   ]
  }
 ],
 "metadata": {
  "kernelspec": {
   "display_name": "Python 3",
   "language": "python",
   "name": "python3"
  },
  "language_info": {
   "codemirror_mode": {
    "name": "ipython",
    "version": 3
   },
   "file_extension": ".py",
   "mimetype": "text/x-python",
   "name": "python",
   "nbconvert_exporter": "python",
   "pygments_lexer": "ipython3",
   "version": "3.8.8"
  }
 },
 "nbformat": 4,
 "nbformat_minor": 5
}
